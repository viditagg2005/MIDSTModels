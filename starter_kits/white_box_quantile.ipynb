{
 "cells": [
  {
   "cell_type": "markdown",
   "metadata": {},
   "source": [
    "## Imports\n"
   ]
  },
  {
   "cell_type": "code",
   "execution_count": 1,
   "metadata": {},
   "outputs": [],
   "source": [
    "import csv\n",
    "import os\n",
    "import random\n",
    "import zipfile\n",
    "\n",
    "from pathlib import Path \n",
    "from functools import partial\n",
    "from typing import Callable, Any,List\n",
    "\n",
    "import numpy as np \n",
    "import torch\n",
    "\n",
    "from tqdm.notebook import tqdm\n",
    "from data import get_challenge_points\n",
    "from metrics import get_tpr_at_fpr\n",
    "from midst_models.single_table_TabDDPM.wb_pipeline_utils import quantile_normalize_sklearn"
   ]
  },
  {
   "cell_type": "code",
   "execution_count": 2,
   "metadata": {},
   "outputs": [],
   "source": [
    "import json\n",
    "\n",
    "from midst_models.single_table_TabDDPM.wb_complex_pipeline import (\n",
    "    clava_clustering,\n",
    "    clava_training,\n",
    "    clava_load_pretrained,\n",
    "    clava_synthesizing,\n",
    "    load_configs,\n",
    ")\n",
    "from midst_models.single_table_TabDDPM.wb_pipeline_modules import load_multi_table\n",
    "from midst_models.single_table_TabDDPM.tab_ddpm.gaussian_multinomial_diffsuion import GaussianMultinomialDiffusion"
   ]
  },
  {
   "cell_type": "code",
   "execution_count": 3,
   "metadata": {},
   "outputs": [],
   "source": [
    "TABDDPM_DATA_DIR = \"tabddpm_white_box\"\n",
    "TABSYN_DATA_DIR = \"tabsyn_white_box\""
   ]
  },
  {
   "cell_type": "markdown",
   "metadata": {},
   "source": [
    "## Loading Model\n"
   ]
  },
  {
   "cell_type": "code",
   "execution_count": 4,
   "metadata": {},
   "outputs": [
    {
     "name": "stdout",
     "output_type": "stream",
     "text": [
      "{\n",
      "    \"general\": {\n",
      "        \"data_dir\": \"/home/vidit/Desktop/SaTML/MIDSTModels/starter_kits/tabddpm_white_box/train/tabddpm_1\",\n",
      "        \"exp_name\": \"\",\n",
      "        \"workspace_dir\": \"/home/vidit/Desktop/SaTML/MIDSTModels/starter_kits/tabddpm_white_box/train/tabddpm_1\",\n",
      "        \"sample_prefix\": \"\",\n",
      "        \"test_data_dir\": \"/home/vidit/Desktop/SaTML/MIDSTModels/starter_kits/tabddpm_white_box/train/tabddpm_1\"\n",
      "    },\n",
      "    \"clustering\": {\n",
      "        \"parent_scale\": 1.0,\n",
      "        \"num_clusters\": 50,\n",
      "        \"clustering_method\": \"both\"\n",
      "    },\n",
      "    \"diffusion\": {\n",
      "        \"d_layers\": [\n",
      "            512,\n",
      "            1024,\n",
      "            1024,\n",
      "            1024,\n",
      "            1024,\n",
      "            512\n",
      "        ],\n",
      "        \"dropout\": 0.0,\n",
      "        \"num_timesteps\": 2000,\n",
      "        \"model_type\": \"mlp\",\n",
      "        \"iterations\": 200000,\n",
      "        \"batch_size\": 4096,\n",
      "        \"lr\": 0.0006,\n",
      "        \"gaussian_loss_type\": \"mse\",\n",
      "        \"weight_decay\": 1e-05,\n",
      "        \"scheduler\": \"cosine\"\n",
      "    },\n",
      "    \"classifier\": {\n",
      "        \"d_layers\": [\n",
      "            128,\n",
      "            256,\n",
      "            512,\n",
      "            1024,\n",
      "            512,\n",
      "            256,\n",
      "            128\n",
      "        ],\n",
      "        \"lr\": 0.0001,\n",
      "        \"dim_t\": 128,\n",
      "        \"batch_size\": 4096,\n",
      "        \"iterations\": 20000\n",
      "    },\n",
      "    \"sampling\": {\n",
      "        \"batch_size\": 20000,\n",
      "        \"classifier_scale\": 1.0\n",
      "    },\n",
      "    \"matching\": {\n",
      "        \"num_matching_clusters\": 1,\n",
      "        \"matching_batch_size\": 1000,\n",
      "        \"unique_matching\": true,\n",
      "        \"no_matching\": false\n",
      "    }\n",
      "}\n"
     ]
    }
   ],
   "source": [
    "# Load config\n",
    "config_path = \"/home/vidit/Desktop/SaTML/MIDSTModels/starter_kits/tabddpm_white_box/train/tabddpm_1/trans.json\"\n",
    "configs, save_dir = load_configs(config_path)\n",
    "\n",
    "# Display config\n",
    "json_str = json.dumps(configs, indent=4)\n",
    "print(json_str)"
   ]
  },
  {
   "cell_type": "code",
   "execution_count": 5,
   "metadata": {},
   "outputs": [
    {
     "data": {
      "text/plain": [
       "{'general': {'data_dir': '/home/vidit/Desktop/SaTML/MIDSTModels/starter_kits/tabddpm_white_box/train/tabddpm_1',\n",
       "  'exp_name': '',\n",
       "  'workspace_dir': '/home/vidit/Desktop/SaTML/MIDSTModels/starter_kits/tabddpm_white_box/train/tabddpm_1',\n",
       "  'sample_prefix': '',\n",
       "  'test_data_dir': '/home/vidit/Desktop/SaTML/MIDSTModels/starter_kits/tabddpm_white_box/train/tabddpm_1'},\n",
       " 'clustering': {'parent_scale': 1.0,\n",
       "  'num_clusters': 50,\n",
       "  'clustering_method': 'both'},\n",
       " 'diffusion': {'d_layers': [512, 1024, 1024, 1024, 1024, 512],\n",
       "  'dropout': 0.0,\n",
       "  'num_timesteps': 2000,\n",
       "  'model_type': 'mlp',\n",
       "  'iterations': 200000,\n",
       "  'batch_size': 4096,\n",
       "  'lr': 0.0006,\n",
       "  'gaussian_loss_type': 'mse',\n",
       "  'weight_decay': 1e-05,\n",
       "  'scheduler': 'cosine'},\n",
       " 'classifier': {'d_layers': [128, 256, 512, 1024, 512, 256, 128],\n",
       "  'lr': 0.0001,\n",
       "  'dim_t': 128,\n",
       "  'batch_size': 4096,\n",
       "  'iterations': 20000},\n",
       " 'sampling': {'batch_size': 20000, 'classifier_scale': 1.0},\n",
       " 'matching': {'num_matching_clusters': 1,\n",
       "  'matching_batch_size': 1000,\n",
       "  'unique_matching': True,\n",
       "  'no_matching': False}}"
      ]
     },
     "execution_count": 5,
     "metadata": {},
     "output_type": "execute_result"
    }
   ],
   "source": [
    "configs"
   ]
  },
  {
   "cell_type": "code",
   "execution_count": 6,
   "metadata": {},
   "outputs": [
    {
     "data": {
      "text/plain": [
       "'/home/vidit/Desktop/SaTML/MIDSTModels/starter_kits/tabddpm_white_box/train/tabddpm_1/'"
      ]
     },
     "execution_count": 6,
     "metadata": {},
     "output_type": "execute_result"
    }
   ],
   "source": [
    "save_dir"
   ]
  },
  {
   "cell_type": "code",
   "execution_count": 7,
   "metadata": {},
   "outputs": [
    {
     "name": "stdout",
     "output_type": "stream",
     "text": [
      "None -> trans checkpoint found, loading...\n"
     ]
    },
    {
     "name": "stderr",
     "output_type": "stream",
     "text": [
      "/home/vidit/.cache/pypoetry/virtualenvs/midst-models-qGUjvEOx-py3.9/lib/python3.9/site-packages/sklearn/base.py:376: InconsistentVersionWarning: Trying to unpickle estimator LabelEncoder from version 1.5.0 when using version 1.5.2. This might lead to breaking code or invalid results. Use at your own risk. For more info please refer to:\n",
      "https://scikit-learn.org/stable/model_persistence.html#security-maintainability-limitations\n",
      "  warnings.warn(\n",
      "/home/vidit/.cache/pypoetry/virtualenvs/midst-models-qGUjvEOx-py3.9/lib/python3.9/site-packages/sklearn/base.py:376: InconsistentVersionWarning: Trying to unpickle estimator QuantileTransformer from version 1.5.0 when using version 1.5.2. This might lead to breaking code or invalid results. Use at your own risk. For more info please refer to:\n",
      "https://scikit-learn.org/stable/model_persistence.html#security-maintainability-limitations\n",
      "  warnings.warn(\n"
     ]
    }
   ],
   "source": [
    "relation_order = [[None,'trans']]\n",
    "models = clava_load_pretrained(relation_order,save_dir)"
   ]
  },
  {
   "cell_type": "code",
   "execution_count": 8,
   "metadata": {},
   "outputs": [],
   "source": [
    "model = models[None,'trans']['diffusion']"
   ]
  },
  {
   "cell_type": "code",
   "execution_count": 9,
   "metadata": {},
   "outputs": [],
   "source": [
    "device = \"cuda\""
   ]
  },
  {
   "cell_type": "code",
   "execution_count": 10,
   "metadata": {},
   "outputs": [
    {
     "data": {
      "text/plain": [
       "GaussianMultinomialDiffusion(\n",
       "  (_denoise_fn): MLPDiffusion(\n",
       "    (mlp): MLP(\n",
       "      (blocks): ModuleList(\n",
       "        (0): Block(\n",
       "          (linear): Linear(in_features=128, out_features=512, bias=True)\n",
       "          (activation): ReLU()\n",
       "          (dropout): Dropout(p=0.0, inplace=False)\n",
       "        )\n",
       "        (1): Block(\n",
       "          (linear): Linear(in_features=512, out_features=1024, bias=True)\n",
       "          (activation): ReLU()\n",
       "          (dropout): Dropout(p=0.0, inplace=False)\n",
       "        )\n",
       "        (2): Block(\n",
       "          (linear): Linear(in_features=1024, out_features=1024, bias=True)\n",
       "          (activation): ReLU()\n",
       "          (dropout): Dropout(p=0.0, inplace=False)\n",
       "        )\n",
       "        (3): Block(\n",
       "          (linear): Linear(in_features=1024, out_features=1024, bias=True)\n",
       "          (activation): ReLU()\n",
       "          (dropout): Dropout(p=0.0, inplace=False)\n",
       "        )\n",
       "        (4): Block(\n",
       "          (linear): Linear(in_features=1024, out_features=1024, bias=True)\n",
       "          (activation): ReLU()\n",
       "          (dropout): Dropout(p=0.0, inplace=False)\n",
       "        )\n",
       "        (5): Block(\n",
       "          (linear): Linear(in_features=1024, out_features=512, bias=True)\n",
       "          (activation): ReLU()\n",
       "          (dropout): Dropout(p=0.0, inplace=False)\n",
       "        )\n",
       "      )\n",
       "      (head): Linear(in_features=512, out_features=8, bias=True)\n",
       "    )\n",
       "    (proj): Linear(in_features=8, out_features=128, bias=True)\n",
       "    (time_embed): Sequential(\n",
       "      (0): Linear(in_features=128, out_features=128, bias=True)\n",
       "      (1): SiLU()\n",
       "      (2): Linear(in_features=128, out_features=128, bias=True)\n",
       "    )\n",
       "  )\n",
       ")"
      ]
     },
     "execution_count": 10,
     "metadata": {},
     "output_type": "execute_result"
    }
   ],
   "source": [
    "model.to(device)"
   ]
  },
  {
   "cell_type": "markdown",
   "metadata": {},
   "source": [
    "## Making Functions for Quantile Regressors"
   ]
  },
  {
   "cell_type": "code",
   "execution_count": 11,
   "metadata": {},
   "outputs": [],
   "source": [
    "# Imports \n",
    "import torch\n",
    "import torch.nn as nn\n",
    "import torch.optim as optim\n",
    "from torch.utils.data import TensorDataset, DataLoader"
   ]
  },
  {
   "cell_type": "code",
   "execution_count": 12,
   "metadata": {},
   "outputs": [],
   "source": [
    "##############################\n",
    "# Quantile Regressor Network #\n",
    "##############################\n",
    "import torch\n",
    "import torch.nn as nn\n",
    "\n",
    "class QuantileRegressor(nn.Module):\n",
    "    def __init__(self, input_dim, hidden_dims=[128, 64, 32]):\n",
    "        super().__init__()\n",
    "        layers = []\n",
    "        for i in range(len(hidden_dims)):\n",
    "            layers.append(nn.Linear(input_dim if i == 0 else hidden_dims[i - 1], hidden_dims[i]))\n",
    "            layers.append(nn.ReLU())\n",
    "            layers.append(nn.Dropout(0.1))  # Dropout for regularization\n",
    "        layers.append(nn.Linear(hidden_dims[-1], 1))  # Final output layer\n",
    "        self.model = nn.Sequential(*layers)\n",
    "\n",
    "    def forward(self, x):\n",
    "        return self.model(x)"
   ]
  },
  {
   "cell_type": "code",
   "execution_count": 13,
   "metadata": {},
   "outputs": [],
   "source": [
    "# not using this code anymore, this one was generated by perplexity\n",
    "\n",
    "\n",
    "# ##############################\n",
    "# # Pinball Loss (Quantile Loss)#\n",
    "# ##############################\n",
    "# def pinball_loss(q_pred, target, alpha):\n",
    "#     \"\"\"\n",
    "#     Computes the pinball (quantile) loss.\n",
    "#     For each sample:\n",
    "#       if target <= q_pred: loss = (q_pred - target) * (1 - alpha)\n",
    "#       else:                loss = (q_pred - target) * (-alpha)\n",
    "#     \"\"\"\n",
    "#     indicator = (target <= q_pred).float()\n",
    "#     loss = (q_pred - target) * (indicator - alpha)\n",
    "#     return loss.mean()"
   ]
  },
  {
   "cell_type": "code",
   "execution_count": 26,
   "metadata": {},
   "outputs": [],
   "source": [
    "##############################\n",
    "# Training Loop for a Model  #\n",
    "##############################\n",
    "from torch import nn, optim\n",
    "import matplotlib.pyplot as plt\n",
    "\n",
    "def train_quantile_regressor(model, data, labels, alpha, epochs=200, lr=0.001):\n",
    "    device = torch.device(\"cuda\" if torch.cuda.is_available() else \"cpu\")\n",
    "    data = data.to(device)\n",
    "    labels = labels.to(device)\n",
    "    model = model.to(device)\n",
    "\n",
    "    optimizer = optim.Adam(model.parameters(), lr=lr)\n",
    "    criterion = lambda y_pred, y: torch.mean((y_pred - y) * ((y <= y_pred).float() - alpha))\n",
    "    losses = []\n",
    "\n",
    "    for epoch in range(epochs):\n",
    "        model.train()\n",
    "        optimizer.zero_grad()  # Clear gradients at the start of each epoch\n",
    "        outputs = model(data)\n",
    "        loss = criterion(outputs.squeeze(), labels)\n",
    "        losses.append(loss.item())\n",
    "        #loss.backward()\n",
    "        optimizer.step()\n",
    "        \n",
    "        # Detach the computation graph after each epoch\n",
    "        outputs = outputs.detach()\n",
    "        loss = loss.detach()\n",
    "\n",
    "    plt.figure(figsize=(8, 5))\n",
    "    plt.plot(range(1, epochs + 1), losses, label='Training Loss')\n",
    "    plt.xlabel('Epochs')\n",
    "    plt.ylabel('Loss')\n",
    "    plt.title('Training Loss Over Epochs')\n",
    "    plt.legend()\n",
    "    plt.grid(True)\n",
    "    plt.show()\n"
   ]
  },
  {
   "cell_type": "code",
   "execution_count": 15,
   "metadata": {},
   "outputs": [],
   "source": [
    "# this function is directly copied from earlier implementation\n",
    "\n",
    "def compute_t_error(model, x, t):\n",
    "    \"\"\"\n",
    "    Computes the reconstruction error at a specific timestep t.\n",
    "\n",
    "    Args:\n",
    "        model: Pretrained GaussianMultinomialDiffusion model.\n",
    "        x: Input data tensor.\n",
    "        t: Diffusion timestep (int or tensor).\n",
    "\n",
    "    Returns:\n",
    "        Reconstruction error tensor for each sample in x.\n",
    "    \"\"\"\n",
    "    x_t = model.gaussian_q_sample(x_start=x, t=torch.tensor([t]).to(x.device))\n",
    "        # Perform reverse denoising\n",
    "    x_recon = model._denoise_fn(x_t, torch.tensor([t]).to(x.device))\n",
    "    # Compute reconstruction error (e.g., L2 norm)\n",
    "    t_error = torch.norm(x - x_recon, p=2, dim=1)\n",
    "    return t_error"
   ]
  },
  {
   "cell_type": "code",
   "execution_count": 16,
   "metadata": {},
   "outputs": [],
   "source": [
    "def perform_membership_inference(models, x, threshold_alpha):\n",
    "    \"\"\"\n",
    "    Perform membership inference using reconstruction errors and a quantile regression model.\n",
    "    \"\"\"\n",
    "    errors = compute_t_error(model, x, t=10)  # Example timestep\n",
    "    thresholds = models(x)\n",
    "    predictions = (errors <= thresholds).float()  # Membership decision\n",
    "    return predictions"
   ]
  },
  {
   "cell_type": "markdown",
   "metadata": {},
   "source": [
    "## Training Quantile Regressor"
   ]
  },
  {
   "cell_type": "code",
   "execution_count": 22,
   "metadata": {},
   "outputs": [
    {
     "data": {
      "text/plain": [
       "' \\nfirst write the code for getting normalized train_with_id data and then do the same for holdout_with_id then train two quantile regressor models, one on holdout error\\nand the other on train error, then if the error on the cp is less than holdout error then it is train point, or otherwise you can train the two quantile models and check\\nwhich distribution has the higher probability of containing the data point.\\n'"
      ]
     },
     "execution_count": 22,
     "metadata": {},
     "output_type": "execute_result"
    }
   ],
   "source": [
    "\"\"\" \n",
    "first write the code for getting normalized train_with_id data and then do the same for holdout_with_id then train two quantile regressor models, one on holdout error\n",
    "and the other on train error, then if the error on the cp is less than holdout error then it is train point, or otherwise you can train the two quantile models and check\n",
    "which distribution has the higher probability of containing the data point.\n",
    "\"\"\""
   ]
  },
  {
   "cell_type": "markdown",
   "metadata": {},
   "source": [
    "### Loading & Normalizing Data"
   ]
  },
  {
   "cell_type": "code",
   "execution_count": 17,
   "metadata": {},
   "outputs": [],
   "source": [
    "import pandas as pd\n",
    "import torch\n",
    "from tqdm import tqdm  # Import tqdm for progress tracking\n",
    "\n",
    "def load_csv_as_tensor(file_path, nrows=None):\n",
    "    df = pd.read_csv(file_path, header=None, nrows=nrows)  # Read without headers\n",
    "    df = df.iloc[1:, 2:]  # Drop first two columns\n",
    "    df = df.apply(pd.to_numeric, errors='coerce')  # Convert all values to numeric\n",
    "    df = df.fillna(0)  # Replace NaNs with 0 (or use another strategy)\n",
    "    return torch.tensor(df.values, dtype=torch.float32)  # Convert to tensor\n",
    "\n",
    "# Load and process the first CSV file\n",
    "file1 = \"/home/vidit/Desktop/SaTML/MIDSTModels/starter_kits/tabddpm_white_box/train/tabddpm_1/train_with_id.csv\"\n",
    "tensor1 = load_csv_as_tensor(file1)\n",
    "\n",
    "# Load and process the second CSV file (only first 20,000 rows)\n",
    "file2 = \"/home/vidit/Desktop/SaTML/MIDSTModels/starter_kits/tabddpm_white_box/train/tabddpm_1/holdout_with_id.csv\"  \n",
    "tensor2 = load_csv_as_tensor(file2, nrows=20000)"
   ]
  },
  {
   "cell_type": "code",
   "execution_count": 18,
   "metadata": {},
   "outputs": [
    {
     "name": "stdout",
     "output_type": "stream",
     "text": [
      "torch.Size([20000, 8]) torch.Size([19999, 8])\n"
     ]
    }
   ],
   "source": [
    "print(tensor1.shape, tensor2.shape)"
   ]
  },
  {
   "cell_type": "code",
   "execution_count": 19,
   "metadata": {},
   "outputs": [],
   "source": [
    "tensor1_nor, transformers_train = quantile_normalize_sklearn(tensor1.cpu().numpy())\n",
    "tensor2_nor, transformers_holdout = quantile_normalize_sklearn(tensor1.cpu().numpy())\n",
    "\n",
    "final_tensor1_nor = torch.tensor(tensor1_nor,dtype = torch.float32).to(device)\n",
    "final_tensor2_nor = torch.tensor(tensor2_nor,dtype = torch.float32).to(device)"
   ]
  },
  {
   "cell_type": "code",
   "execution_count": 31,
   "metadata": {},
   "outputs": [],
   "source": [
    "final_tensor = torch.cat((tensor1, tensor2), dim=0).to(device='cuda')\n",
    "final_tensor_nor , transformers = quantile_normalize_sklearn(final_tensor.cpu().numpy())"
   ]
  },
  {
   "cell_type": "code",
   "execution_count": 32,
   "metadata": {},
   "outputs": [
    {
     "name": "stdout",
     "output_type": "stream",
     "text": [
      "torch.Size([20000, 8])\n"
     ]
    }
   ],
   "source": [
    "print(final_tensor1_nor.shape)"
   ]
  },
  {
   "cell_type": "code",
   "execution_count": 33,
   "metadata": {},
   "outputs": [],
   "source": [
    "error_train = compute_t_error(model, final_tensor1_nor, t= 100)\n",
    "error_holdout = compute_t_error(model,final_tensor2_nor,t = 100)"
   ]
  },
  {
   "cell_type": "markdown",
   "metadata": {},
   "source": [
    "### Training Regressors"
   ]
  },
  {
   "cell_type": "markdown",
   "metadata": {},
   "source": [
    "NOTE: Need to fix the training code of quantile regressor , currently loss.backward() has been commented"
   ]
  },
  {
   "cell_type": "code",
   "execution_count": 35,
   "metadata": {},
   "outputs": [
    {
     "data": {
      "image/png": "[encoded data removed]",
      "text/plain": [
       "<Figure size 800x500 with 1 Axes>"
      ]
     },
     "metadata": {},
     "output_type": "display_data"
    },
    {
     "data": {
      "image/png": "[encoded data removed]",
      "text/plain": [
       "<Figure size 800x500 with 1 Axes>"
      ]
     },
     "metadata": {},
     "output_type": "display_data"
    }
   ],
   "source": [
    "input_dim = 8\n",
    "quantile_regressor_train = QuantileRegressor(input_dim=input_dim).to(device)\n",
    "\n",
    "X_train  = final_tensor1_nor\n",
    "y_train = error_train.to(device)\n",
    "\n",
    "train_quantile_regressor(\n",
    "    quantile_regressor_train,\n",
    "    X_train,\n",
    "    y_train,\n",
    "    alpha=0.10,  # Set desired quantile (e.g., 5%)\n",
    "    epochs= 100,\n",
    "    lr=0.0005,\n",
    ")\n",
    "\n",
    "quantile_regressor_holdout = QuantileRegressor(input_dim=input_dim).to(device)\n",
    "\n",
    "X_train  = final_tensor2_nor\n",
    "y_train = error_holdout.to(device)\n",
    "\n",
    "train_quantile_regressor(\n",
    "    quantile_regressor_train,\n",
    "    X_train,\n",
    "    y_train,\n",
    "    alpha=0.10,  # Set desired quantile (e.g., 5%)\n",
    "    epochs= 100,\n",
    "    lr=0.0005,\n",
    ")\n"
   ]
  },
  {
   "cell_type": "markdown",
   "metadata": {},
   "source": [
    "## Performing Inference on Challenge Points"
   ]
  },
  {
   "cell_type": "code",
   "execution_count": 36,
   "metadata": {},
   "outputs": [
    {
     "data": {
      "text/plain": [
       "torch.Tensor"
      ]
     },
     "execution_count": 36,
     "metadata": {},
     "output_type": "execute_result"
    }
   ],
   "source": [
    "test_data= load_csv_as_tensor(\"/home/vidit/Desktop/SaTML/MIDSTModels/starter_kits/tabddpm_white_box/train/tabddpm_1/challenge_with_id.csv\").to(device='cuda')\n",
    "type(test_data)"
   ]
  },
  {
   "cell_type": "code",
   "execution_count": 37,
   "metadata": {},
   "outputs": [],
   "source": [
    "test_data_nor_train = np.empty((test_data.shape[0], 0))\n",
    "test_data = test_data.cpu().numpy()\n",
    "for i in range(8):\n",
    "    transformed_column = transformers[i].transform(test_data[:,i].reshape(-1,1))\n",
    "    test_data_nor_train = np.concatenate((test_data_nor_train, transformed_column), axis=1)\n",
    "\n",
    "final_test_data_nor_train = torch.tensor(test_data_nor_train,dtype = torch.float32).to(device)\n",
    "\n",
    "test_data_nor_holdout = np.empty((test_data.shape[0], 0))\n",
    "test_data = test_data\n",
    "for i in range(8):\n",
    "    transformed_column = transformers[i].transform(test_data[:,i].reshape(-1,1))\n",
    "    test_data_nor_holdout = np.concatenate((test_data_nor_holdout, transformed_column), axis=1)\n",
    "\n",
    "final_test_data_nor_holdout = torch.tensor(test_data_nor_holdout,dtype = torch.float32).to(device)"
   ]
  },
  {
   "cell_type": "code",
   "execution_count": 38,
   "metadata": {},
   "outputs": [
    {
     "name": "stdout",
     "output_type": "stream",
     "text": [
      "torch.Size([200, 8]) torch.Size([200, 8])\n"
     ]
    }
   ],
   "source": [
    "print(final_test_data_nor_train.shape, final_test_data_nor_holdout.shape)"
   ]
  },
  {
   "cell_type": "code",
   "execution_count": 39,
   "metadata": {},
   "outputs": [
    {
     "name": "stdout",
     "output_type": "stream",
     "text": [
      "torch.Size([200, 1]) torch.Size([200, 1]) torch.Size([200])\n"
     ]
    }
   ],
   "source": [
    "pred_error_train = quantile_regressor_train(final_test_data_nor_train)\n",
    "pred_error_holdout = quantile_regressor_holdout(final_test_data_nor_holdout)\n",
    "actual_error = compute_t_error(model,final_test_data_nor_train,t = 100)\n",
    "\n",
    "print(pred_error_train.shape,pred_error_train.shape,actual_error.shape)"
   ]
  },
  {
   "cell_type": "code",
   "execution_count": 41,
   "metadata": {},
   "outputs": [],
   "source": [
    "challenge_labels = pd.read_csv(\"/home/vidit/Desktop/SaTML/MIDSTModels/starter_kits/tabddpm_white_box/train/tabddpm_1/challenge_label.csv\")\n",
    "challenge_ground_truth = challenge_labels[\"is_train\"].values"
   ]
  },
  {
   "cell_type": "code",
   "execution_count": 43,
   "metadata": {},
   "outputs": [
    {
     "name": "stdout",
     "output_type": "stream",
     "text": [
      "tensor([47.5503, 25.4928, 21.4764, 14.5178, 21.9812, 11.4569, 23.3856, 11.7835,\n",
      "        16.7310, 15.6057, 23.3268, 23.7621, 25.9202, 24.1391, 24.4179, 16.4903,\n",
      "        25.9845, 27.9974, 15.1685, 13.8474,  9.4349, 26.2240, 14.8456, 22.8487,\n",
      "        22.7658, 13.2550, 15.8788, 21.8791, 23.4597, 21.6899, 51.9968, 22.6137,\n",
      "        22.8898, 28.1154, 22.3738, 25.1469, 26.1007, 25.0651, 15.0899, 14.5454,\n",
      "        11.2120, 13.8468, 15.2115, 23.5141, 23.5156, 10.9404, 14.4369, 24.9958,\n",
      "        22.1041, 16.4609, 31.2824, 27.2031, 24.8256, 29.3989, 19.8008,  9.9913,\n",
      "        22.9205, 22.9644, 15.7125, 21.0576, 26.6560, 21.4565, 21.6143, 22.7474,\n",
      "        14.3224, 23.8048, 22.6153, 24.1062, 23.8828, 26.5109, 24.5772, 24.1039,\n",
      "        58.4432, 15.1544, 65.1246, 22.0831, 22.5388, 13.8277, 20.5533, 19.9217,\n",
      "        16.0503, 15.7817, 55.3135, 13.2048, 27.0598, 23.0508, 16.0915, 21.3524,\n",
      "        21.1766, 15.5650, 23.7942, 14.7662, 21.9251, 25.7871, 27.8251, 10.6854,\n",
      "        14.8015, 14.9940,  9.6856, 23.8998, 22.1635, 15.6856, 20.4441, 24.6514,\n",
      "        25.7284, 61.9863,  9.5359, 22.1194, 23.4538, 23.4530, 29.4042, 14.8511,\n",
      "        23.3547, 61.7158, 59.2932, 11.9197, 19.9704, 28.9108, 12.5104, 25.5789,\n",
      "        69.2544, 24.1832, 13.4557, 16.1771, 27.9219, 28.9467, 22.9542, 23.0510,\n",
      "        13.3060, 24.7657,  9.0857, 12.8490, 23.4799, 20.3176, 22.8027, 21.0183,\n",
      "        21.3843, 27.6712, 24.2805, 23.5548, 16.8883, 24.0517, 15.5111, 23.5088,\n",
      "        22.0651, 11.7203, 11.5255, 27.8445, 15.7185, 39.4293, 24.0329, 49.5701,\n",
      "         9.8907, 24.2106, 24.0051, 22.9321, 23.2450, 24.9787, 15.8446, 15.7856,\n",
      "        15.3874, 72.1007, 28.0169, 55.5551, 16.2971, 23.9802, 17.6173, 23.8541,\n",
      "        15.2276, 22.3836, 15.5546, 13.2797, 26.0356, 26.4320, 24.5015, 23.2041,\n",
      "        10.3036, 21.6154, 23.4976, 11.9614, 17.2306, 22.9445, 19.0606, 27.9852,\n",
      "        11.9008, 19.5532, 10.8520, 21.6774, 22.6609, 14.3944, 12.0525, 22.9207,\n",
      "        22.0189, 22.2305, 12.0178, 14.9846, 22.8001, 22.8506,  8.6514, 23.4367],\n",
      "       device='cuda:0', grad_fn=<NormBackward1>)\n"
     ]
    }
   ],
   "source": [
    "print(actual_error)"
   ]
  },
  {
   "cell_type": "code",
   "execution_count": 42,
   "metadata": {},
   "outputs": [
    {
     "data": {
      "text/plain": [
       "torch.Size([200, 1])"
      ]
     },
     "execution_count": 42,
     "metadata": {},
     "output_type": "execute_result"
    }
   ],
   "source": [
    "prediction_scores = pred_error_train * pred_error_holdout\n",
    "prediction_scores.shape"
   ]
  },
  {
   "cell_type": "code",
   "execution_count": 44,
   "metadata": {},
   "outputs": [
    {
     "data": {
      "text/plain": [
       "array([[0.],\n",
       "       [0.],\n",
       "       [0.],\n",
       "       [0.],\n",
       "       [0.],\n",
       "       [0.],\n",
       "       [0.],\n",
       "       [0.],\n",
       "       [0.],\n",
       "       [0.],\n",
       "       [0.],\n",
       "       [0.],\n",
       "       [0.],\n",
       "       [0.],\n",
       "       [0.],\n",
       "       [0.],\n",
       "       [0.],\n",
       "       [0.],\n",
       "       [0.],\n",
       "       [0.],\n",
       "       [0.],\n",
       "       [0.],\n",
       "       [0.],\n",
       "       [0.],\n",
       "       [0.],\n",
       "       [0.],\n",
       "       [0.],\n",
       "       [0.],\n",
       "       [0.],\n",
       "       [0.],\n",
       "       [0.],\n",
       "       [0.],\n",
       "       [0.],\n",
       "       [0.],\n",
       "       [0.],\n",
       "       [0.],\n",
       "       [0.],\n",
       "       [0.],\n",
       "       [0.],\n",
       "       [0.],\n",
       "       [0.],\n",
       "       [0.],\n",
       "       [0.],\n",
       "       [0.],\n",
       "       [0.],\n",
       "       [0.],\n",
       "       [0.],\n",
       "       [0.],\n",
       "       [0.],\n",
       "       [0.],\n",
       "       [0.],\n",
       "       [0.],\n",
       "       [0.],\n",
       "       [0.],\n",
       "       [0.],\n",
       "       [0.],\n",
       "       [0.],\n",
       "       [0.],\n",
       "       [0.],\n",
       "       [0.],\n",
       "       [0.],\n",
       "       [0.],\n",
       "       [0.],\n",
       "       [0.],\n",
       "       [0.],\n",
       "       [0.],\n",
       "       [0.],\n",
       "       [0.],\n",
       "       [0.],\n",
       "       [0.],\n",
       "       [0.],\n",
       "       [0.],\n",
       "       [0.],\n",
       "       [0.],\n",
       "       [0.],\n",
       "       [0.],\n",
       "       [0.],\n",
       "       [0.],\n",
       "       [0.],\n",
       "       [0.],\n",
       "       [0.],\n",
       "       [0.],\n",
       "       [0.],\n",
       "       [0.],\n",
       "       [0.],\n",
       "       [0.],\n",
       "       [0.],\n",
       "       [0.],\n",
       "       [0.],\n",
       "       [0.],\n",
       "       [0.],\n",
       "       [0.],\n",
       "       [0.],\n",
       "       [0.],\n",
       "       [0.],\n",
       "       [0.],\n",
       "       [0.],\n",
       "       [0.],\n",
       "       [0.],\n",
       "       [0.],\n",
       "       [0.],\n",
       "       [0.],\n",
       "       [0.],\n",
       "       [0.],\n",
       "       [0.],\n",
       "       [0.],\n",
       "       [0.],\n",
       "       [0.],\n",
       "       [0.],\n",
       "       [0.],\n",
       "       [0.],\n",
       "       [0.],\n",
       "       [0.],\n",
       "       [0.],\n",
       "       [0.],\n",
       "       [0.],\n",
       "       [0.],\n",
       "       [0.],\n",
       "       [0.],\n",
       "       [0.],\n",
       "       [0.],\n",
       "       [0.],\n",
       "       [0.],\n",
       "       [0.],\n",
       "       [0.],\n",
       "       [0.],\n",
       "       [0.],\n",
       "       [0.],\n",
       "       [0.],\n",
       "       [0.],\n",
       "       [0.],\n",
       "       [0.],\n",
       "       [0.],\n",
       "       [0.],\n",
       "       [0.],\n",
       "       [0.],\n",
       "       [0.],\n",
       "       [0.],\n",
       "       [0.],\n",
       "       [0.],\n",
       "       [0.],\n",
       "       [0.],\n",
       "       [0.],\n",
       "       [0.],\n",
       "       [0.],\n",
       "       [0.],\n",
       "       [0.],\n",
       "       [0.],\n",
       "       [0.],\n",
       "       [0.],\n",
       "       [0.],\n",
       "       [0.],\n",
       "       [0.],\n",
       "       [0.],\n",
       "       [0.],\n",
       "       [0.],\n",
       "       [0.],\n",
       "       [0.],\n",
       "       [0.],\n",
       "       [0.],\n",
       "       [0.],\n",
       "       [0.],\n",
       "       [0.],\n",
       "       [0.],\n",
       "       [0.],\n",
       "       [0.],\n",
       "       [0.],\n",
       "       [0.],\n",
       "       [0.],\n",
       "       [0.],\n",
       "       [0.],\n",
       "       [0.],\n",
       "       [0.],\n",
       "       [0.],\n",
       "       [0.],\n",
       "       [0.],\n",
       "       [0.],\n",
       "       [0.],\n",
       "       [0.],\n",
       "       [0.],\n",
       "       [0.],\n",
       "       [0.],\n",
       "       [0.],\n",
       "       [0.],\n",
       "       [0.],\n",
       "       [0.],\n",
       "       [0.],\n",
       "       [0.],\n",
       "       [0.],\n",
       "       [0.],\n",
       "       [0.],\n",
       "       [0.],\n",
       "       [0.],\n",
       "       [0.],\n",
       "       [0.],\n",
       "       [0.],\n",
       "       [0.],\n",
       "       [0.],\n",
       "       [0.],\n",
       "       [0.]], dtype=float32)"
      ]
     },
     "execution_count": 44,
     "metadata": {},
     "output_type": "execute_result"
    }
   ],
   "source": [
    "membership_predictions = (prediction_scores > 0.5).float().cpu().numpy()\n",
    "membership_predictions"
   ]
  },
  {
   "cell_type": "code",
   "execution_count": 47,
   "metadata": {},
   "outputs": [
    {
     "name": "stdout",
     "output_type": "stream",
     "text": [
      "True Positive Rate at 10% False Positive Rate: 0.0900\n"
     ]
    }
   ],
   "source": [
    "from sklearn.metrics import accuracy_score, precision_score, recall_score, roc_auc_score, roc_curve\n",
    "fpr, tpr, thresholds = roc_curve(challenge_ground_truth, prediction_scores.detach().cpu().numpy())\n",
    "\n",
    "# Find the threshold where FPR is closest to 0.1\n",
    "fpr_target = 0.1\n",
    "idx = (fpr <= fpr_target).sum() - 1  # Find the index of the last FPR <= 0.1\n",
    "tpr_at_fpr_target = tpr[idx] if idx >= 0 else 0\n",
    "\n",
    "print(f\"True Positive Rate at 10% False Positive Rate: {tpr_at_fpr_target:.4f}\")"
   ]
  },
  {
   "cell_type": "code",
   "execution_count": 123,
   "metadata": {},
   "outputs": [
    {
     "name": "stdout",
     "output_type": "stream",
     "text": [
      "Accuracy: 0.5750\n",
      "TPR at 10% FPR: 0.0000\n"
     ]
    }
   ],
   "source": [
    "from sklearn.metrics import accuracy_score, roc_curve\n",
    "\n",
    "# Example inputs (replace with actual data)\n",
    "y_true = challenge_ground_truth  # Binary labels (0 or 1)\n",
    "y_pred = predictions  # Predicted scores (continuous)\n",
    "\n",
    "# Compute Accuracy\n",
    "y_pred_labels = (y_pred >= 0.5).astype(int)  # Convert scores to binary labels\n",
    "accuracy = accuracy_score(y_true, y_pred_labels)\n",
    "\n",
    "# Compute TPR at the closest FPR to 10%\n",
    "fpr, tpr, thresholds = roc_curve(y_true, y_pred)\n",
    "closest_idx = np.argmin(np.abs(fpr - 0.1))  # Find the index where FPR is closest to 10%\n",
    "tpr_at_10_fpr = tpr[closest_idx]\n",
    "\n",
    "# Print Results\n",
    "print(f\"Accuracy: {accuracy:.4f}\")\n",
    "print(f\"TPR at 10% FPR: {tpr_at_10_fpr:.4f}\")"
   ]
  },
  {
   "cell_type": "markdown",
   "metadata": {},
   "source": [
    "### Deprecated Code from perplexity"
   ]
  },
  {
   "cell_type": "code",
   "execution_count": 122,
   "metadata": {},
   "outputs": [
    {
     "name": "stdout",
     "output_type": "stream",
     "text": [
      "[0, 1, 0, 0, 0, 0, 1, 0, 1, 0, 0, 1, 1, 1, 1, 0, 0, 1, 0, 0, 0, 1, 0, 1, 1, 0, 0, 0, 0, 1, 0, 0, 0, 1, 0, 1, 0, 1, 1, 0, 0, 0, 0, 1, 0, 0, 0, 1, 1, 1, 1, 1, 1, 1, 1, 0, 0, 1, 0, 1, 1, 1, 0, 1, 0, 1, 1, 0, 1, 1, 1, 0, 0, 0, 0, 1, 0, 0, 1, 0, 0, 0, 0, 0, 1, 0, 0, 1, 0, 0, 1, 0, 0, 1, 1, 0, 0, 1, 0, 0, 1, 1, 0, 0, 1, 0, 0, 0, 1, 0, 1, 0, 0, 0, 0, 0, 1, 1, 0, 1, 0, 1, 0, 1, 1, 1, 0, 1, 0, 1, 0, 0, 1, 1, 0, 1, 0, 1, 0, 0, 0, 1, 0, 0, 0, 0, 0, 1, 0, 1, 1, 0, 0, 1, 0, 0, 0, 0, 0, 0, 0, 0, 1, 0, 1, 1, 0, 1, 0, 0, 0, 0, 1, 1, 1, 0, 0, 1, 1, 0, 1, 1, 1, 1, 0, 0, 0, 0, 1, 0, 0, 1, 0, 1, 0, 0, 1, 1, 0, 1]\n"
     ]
    }
   ],
   "source": [
    "# predictions = []\n",
    "# for i in range(test_data.shape[0]):\n",
    "#     train_err = pred_error_train[i].item()\n",
    "#     holdout_err = pred_error_holdout[i].item()\n",
    "#     actual_err = actual_error[i].item()\n",
    "#     classification = 0 if (abs(actual_err - train_err) > abs(actual_err - holdout_err)) else 1\n",
    "#     predictions.append(classification)\n",
    "\n",
    "# print(predictions)"
   ]
  },
  {
   "cell_type": "code",
   "execution_count": null,
   "metadata": {},
   "outputs": [],
   "source": [
    "\n",
    "    \n",
    "    # # =============================================================================\n",
    "    # # Inference: For each test sample, use the trained model to predict a threshold.\n",
    "    # # Compare the actual score to the threshold to decide membership:\n",
    "    # # If actual score <= predicted threshold, output 1 (member); else, output 0 (nonmember).\n",
    "    # # =============================================================================\n",
    "    # output_list = []\n",
    "    # for sample in test_tensor:\n",
    "    #     x_sample = sample[:input_dim].unsqueeze(0)  # shape: [1, input_dim]\n",
    "    #     actual_score = sample[input_dim].item()       # the observed score for this sample\n",
    "    #     model.eval()\n",
    "    #     with torch.no_grad():\n",
    "    #         pred_threshold = model(x_sample).item()\n",
    "    #     decision = 1 if actual_score <= pred_threshold else 0\n",
    "    #     output_list.append(decision)\n",
    "    \n",
    "    # # Create a tensor of output predictions.\n",
    "    # output = torch.tensor(output_list)\n",
    "    \n",
    "    # print(\"\\nFinal membership predictions (1 = member, 0 = nonmember):\")\n",
    "    # print(output)\n"
   ]
  },
  {
   "cell_type": "code",
   "execution_count": null,
   "metadata": {},
   "outputs": [],
   "source": []
  }
 ],
 "metadata": {
  "kernelspec": {
   "display_name": "midst-models-qGUjvEOx-py3.9",
   "language": "python",
   "name": "python3"
  },
  "language_info": {
   "codemirror_mode": {
    "name": "ipython",
    "version": 3
   },
   "file_extension": ".py",
   "mimetype": "text/x-python",
   "name": "python",
   "nbconvert_exporter": "python",
   "pygments_lexer": "ipython3",
   "version": "3.9.21"
  }
 },
 "nbformat": 4,
 "nbformat_minor": 2
}
